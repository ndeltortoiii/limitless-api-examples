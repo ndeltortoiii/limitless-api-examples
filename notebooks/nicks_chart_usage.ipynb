{
 "cells": [
  {
   "cell_type": "markdown",
   "metadata": {},
   "source": [
    "# 🎤 Nick's Limitless Pendant Usage Analysis\n",
    "\n",
    "Visualization of recording patterns and usage statistics from your Limitless pendant."
   ]
  },
  {
   "cell_type": "code",
   "execution_count": null,
   "metadata": {
    "collapsed": true,
    "jupyter": {
     "outputs_hidden": true
    }
   },
   "outputs": [],
   "source": [
    "# Setup and data loading (click to expand)\n",
    "import pandas as pd\n",
    "import matplotlib.pyplot as plt\n",
    "import requests\n",
    "from datetime import date\n",
    "import os\n",
    "from dotenv import load_dotenv\n",
    "\n",
    "load_dotenv('../python/.env')\n",
    "\n",
    "def download_lifelogs(date_str=None, page_size=10):\n",
    "    \"\"\"Download lifelogs from the Limitless API\"\"\"\n",
    "    if date_str is None:\n",
    "        date_str = date.today().isoformat()\n",
    "    \n",
    "    url = \"https://api.limitless.ai/v1/lifelogs\"\n",
    "    api_key = os.getenv(\"LIMITLESS_API_KEY\")\n",
    "    \n",
    "    params = {\n",
    "        \"includeMarkdown\": \"false\",\n",
    "        \"direction\": \"asc\",\n",
    "        \"limit\": page_size,\n",
    "        \"includeHeadings\": \"false\"\n",
    "    }\n",
    "    \n",
    "    headers = {\"X-API-Key\": api_key}\n",
    "    all_lifelogs = []\n",
    "    \n",
    "    while True:\n",
    "        response = requests.get(url, params=params, headers=headers)\n",
    "        data = response.json()\n",
    "        lifelogs = data.get('data', {}).get('lifelogs', [])\n",
    "        \n",
    "        if not lifelogs:\n",
    "            break\n",
    "        \n",
    "        all_lifelogs.extend(lifelogs)\n",
    "        next_cursor = data.get('meta', {}).get('lifelogs', {}).get('nextCursor', None)\n",
    "        if next_cursor:\n",
    "            params[\"cursor\"] = next_cursor\n",
    "        else:\n",
    "            break\n",
    "    \n",
    "    lifelog_data = []\n",
    "    for log in all_lifelogs:\n",
    "        if 'contents' in log and log['contents']:\n",
    "            first_time = log['contents'][0]['startTime']\n",
    "            last_time = log['contents'][-1]['startTime']\n",
    "            lifelog_data.append({\n",
    "                'first_timestamp': first_time,\n",
    "                'last_timestamp': last_time,\n",
    "                'title': log.get('title', 'Untitled')\n",
    "            })\n",
    "    \n",
    "    df = pd.DataFrame(lifelog_data)\n",
    "    if not df.empty:\n",
    "        df['first_timestamp'] = pd.to_datetime(df['first_timestamp'])\n",
    "        df['last_timestamp'] = pd.to_datetime(df['last_timestamp'])\n",
    "    \n",
    "    return df\n",
    "\n",
    "# Load the data\n",
    "df = download_lifelogs()\n",
    "print(f\"✅ Loaded {len(df)} recording sessions\")"
   ]
  },
  {
   "cell_type": "markdown",
   "metadata": {},
   "source": [
    "## 📊 Recording Timeline"
   ]
  },
  {
   "cell_type": "code",
   "execution_count": null,
   "metadata": {},
   "outputs": [],
   "source": [
    "# Create timeline visualization\n",
    "plt.figure(figsize=(16, 10))\n",
    "\n",
    "for i, row in df.iterrows():\n",
    "    start_hour = row['first_timestamp'].hour + row['first_timestamp'].minute/60\n",
    "    end_hour = row['last_timestamp'].hour + row['last_timestamp'].minute/60\n",
    "    \n",
    "    plt.plot([start_hour, end_hour], [i, i], linewidth=4, color='steelblue', alpha=0.7)\n",
    "    plt.plot(start_hour, i, marker='o', markersize=4, color='darkblue')\n",
    "\n",
    "plt.title('🎤 Nick\\'s Limitless Pendant Recording Timeline', fontsize=18, fontweight='bold', pad=20)\n",
    "plt.xlabel('Hour of Day (24-hour format)', fontsize=14)\n",
    "plt.ylabel('Recording Session Number', fontsize=14)\n",
    "\n",
    "plt.xticks(range(0, 25, 2), fontsize=12)\n",
    "plt.xlim(0, 24)\n",
    "plt.grid(True, linestyle='--', alpha=0.3)\n",
    "plt.yticks([])\n",
    "\n",
    "# Statistics\n",
    "total_recording_time = sum((row['last_timestamp'] - row['first_timestamp']).total_seconds()/3600 \n",
    "                          for _, row in df.iterrows())\n",
    "earliest_recording = df['first_timestamp'].min().strftime('%H:%M')\n",
    "latest_recording = df['last_timestamp'].max().strftime('%H:%M')\n",
    "\n",
    "stats_text = f\"\"\"📊 Usage Statistics:\n",
    "• Total Sessions: {len(df)}\n",
    "• Total Recording Time: {total_recording_time:.1f} hours\n",
    "• Average Session: {(total_recording_time/len(df)*60):.1f} minutes\n",
    "• First Session: {earliest_recording}\n",
    "• Last Session: {latest_recording}\"\"\"\n",
    "\n",
    "plt.figtext(0.02, 0.02, stats_text, fontsize=11, \n",
    "            bbox=dict(boxstyle=\"round,pad=0.5\", facecolor=\"lightblue\", alpha=0.8))\n",
    "\n",
    "plt.tight_layout()\n",
    "plt.subplots_adjust(bottom=0.2)\n",
    "plt.show()"
   ]
  },
  {
   "cell_type": "markdown",
   "metadata": {},
   "source": [
    "## 📈 Usage by Hour"
   ]
  },
  {
   "cell_type": "code",
   "execution_count": null,
   "metadata": {},
   "outputs": [],
   "source": [
    "# Usage histogram\n",
    "df['hour'] = df['first_timestamp'].dt.hour\n",
    "\n",
    "plt.figure(figsize=(14, 6))\n",
    "plt.hist(df['hour'], bins=24, range=(0, 24), alpha=0.7, color='steelblue', edgecolor='black')\n",
    "\n",
    "plt.title('📊 Recording Sessions by Hour of Day', fontsize=16, fontweight='bold')\n",
    "plt.xlabel('Hour of Day (24-hour format)', fontsize=12)\n",
    "plt.ylabel('Number of Sessions Started', fontsize=12)\n",
    "plt.xticks(range(0, 25, 2))\n",
    "plt.grid(True, alpha=0.3)\n",
    "\n",
    "plt.tight_layout()\n",
    "plt.show()\n",
    "\n",
    "# Usage insights\n",
    "hour_counts = df['hour'].value_counts().sort_index()\n",
    "peak_hour = hour_counts.idxmax()\n",
    "peak_count = hour_counts.max()\n",
    "\n",
    "print(f\"🔥 Peak usage hour: {peak_hour:02d}:00 with {peak_count} sessions\")\n",
    "print(f\"🌅 Morning (6-12): {len(df[(df['hour'] >= 6) & (df['hour'] < 12)])} sessions\")\n",
    "print(f\"☀️  Afternoon (12-18): {len(df[(df['hour'] >= 12) & (df['hour'] < 18)])} sessions\")\n",
    "print(f\"🌙 Evening (18-24): {len(df[(df['hour'] >= 18) & (df['hour'] < 24)])} sessions\")\n",
    "print(f\"🌃 Night (0-6): {len(df[(df['hour'] >= 0) & (df['hour'] < 6)])} sessions\")"
   ]
  },
  {
   "cell_type": "markdown",
   "metadata": {},
   "source": [
    "---\n",
    "### 📖 How to Read the Charts:\n",
    "- **Timeline Chart**: Each horizontal line is one recording session\n",
    "  - Position shows when it started during the day\n",
    "  - Length shows how long it lasted\n",
    "- **Histogram**: Shows your most active recording hours\n",
    "\n",
    "*Generated from your Limitless pendant data*"
   ]
  }
 ],
 "metadata": {
  "kernelspec": {
   "display_name": "Python 3",
   "language": "python",
   "name": "python3"
  },
  "language_info": {
   "codemirror_mode": {
    "name": "ipython",
    "version": 3
   },
   "file_extension": ".py",
   "mimetype": "text/x-python",
   "name": "python",
   "nbconvert_exporter": "python",
   "pygments_lexer": "ipython3",
   "version": "3.9.6"
  }
 },
 "nbformat": 4,
 "nbformat_minor": 4
}